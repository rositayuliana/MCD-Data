{
  "nbformat": 4,
  "nbformat_minor": 0,
  "metadata": {
    "kernelspec": {
      "display_name": "Python 3",
      "language": "python",
      "name": "python3"
    },
    "language_info": {
      "codemirror_mode": {
        "name": "ipython",
        "version": 3
      },
      "file_extension": ".py",
      "mimetype": "text/x-python",
      "name": "python",
      "nbconvert_exporter": "python",
      "pygments_lexer": "ipython3",
      "version": "3.7.6"
    },
    "papermill": {
      "duration": 9.944352,
      "end_time": "2021-01-10T13:04:51.297113",
      "environment_variables": {},
      "exception": null,
      "input_path": "__notebook__.ipynb",
      "output_path": "__notebook__.ipynb",
      "parameters": {},
      "start_time": "2021-01-10T13:04:41.352761",
      "version": "2.1.0"
    },
    "colab": {
      "name": "gain-insight-in-mcd-data.ipynb",
      "provenance": []
    }
  },
  "cells": [
    {
      "cell_type": "markdown",
      "metadata": {
        "id": "AlaePLTIL8Yz"
      },
      "source": [
        "# **Author: Rosita Yuliana**"
      ]
    },
    {
      "cell_type": "markdown",
      "metadata": {
        "papermill": {
          "duration": 0.015846,
          "end_time": "2021-01-10T13:04:46.011724",
          "exception": false,
          "start_time": "2021-01-10T13:04:45.995878",
          "status": "completed"
        },
        "tags": [],
        "id": "YEQgxxQRn0P8"
      },
      "source": [
        "Here, I work with MCD Nutrition Facts Data to gain a better insight in MCD's Menu such as number of caloric intake of specific menu."
      ]
    },
    {
      "cell_type": "markdown",
      "metadata": {
        "papermill": {
          "duration": 0.014477,
          "end_time": "2021-01-10T13:04:46.041270",
          "exception": false,
          "start_time": "2021-01-10T13:04:46.026793",
          "status": "completed"
        },
        "tags": [],
        "id": "ajFPZXtqn0QM"
      },
      "source": [
        "First, import libraries and dataset."
      ]
    },
    {
      "cell_type": "code",
      "metadata": {
        "_cell_guid": "b1076dfc-b9ad-4769-8c92-a6c4dae69d19",
        "_uuid": "8f2839f25d086af736a60e9eeb907d3b93b6e0e5",
        "execution": {
          "iopub.execute_input": "2021-01-10T13:04:46.079893Z",
          "iopub.status.busy": "2021-01-10T13:04:46.079213Z",
          "iopub.status.idle": "2021-01-10T13:04:46.092910Z",
          "shell.execute_reply": "2021-01-10T13:04:46.092257Z"
        },
        "papermill": {
          "duration": 0.036786,
          "end_time": "2021-01-10T13:04:46.093045",
          "exception": false,
          "start_time": "2021-01-10T13:04:46.056259",
          "status": "completed"
        },
        "tags": [],
        "id": "bJXJI7a5n0QR"
      },
      "source": [
        "# This Python 3 environment comes with many helpful analytics libraries installed\n",
        "# For example, here's several helpful packages to load\n",
        "\n",
        "import numpy as np # linear algebra\n",
        "import pandas as pd # data processing, CSV file I/O (e.g. pd.read_csv)\n",
        "\n",
        "# Input data files are available in the read-only \"../input/\" directory\n",
        "# For example, running this (by clicking run or pressing Shift+Enter) will list all files under the input directory\n",
        "\n",
        "import os\n",
        "for dirname, _, filenames in os.walk('/kaggle/input'):\n",
        "    for filename in filenames:\n",
        "        print(os.path.join(dirname, filename))\n",
        "\n",
        "# You can write up to 5GB to the current directory (/kaggle/working/) that gets preserved as output when you create a version using \"Save & Run All\" \n",
        "# You can also write temporary files to /kaggle/temp/, but they won't be saved outside of the current session"
      ],
      "execution_count": null,
      "outputs": []
    },
    {
      "cell_type": "code",
      "metadata": {
        "_cell_guid": "79c7e3d0-c299-4dcb-8224-4455121ee9b0",
        "_uuid": "d629ff2d2480ee46fbb7e2d37f6b5fab8052498a",
        "execution": {
          "iopub.execute_input": "2021-01-10T13:04:46.129424Z",
          "iopub.status.busy": "2021-01-10T13:04:46.128697Z",
          "iopub.status.idle": "2021-01-10T13:04:47.172831Z",
          "shell.execute_reply": "2021-01-10T13:04:47.172056Z"
        },
        "papermill": {
          "duration": 1.064272,
          "end_time": "2021-01-10T13:04:47.172991",
          "exception": false,
          "start_time": "2021-01-10T13:04:46.108719",
          "status": "completed"
        },
        "tags": [],
        "colab": {
          "base_uri": "https://localhost:8080/",
          "height": 452
        },
        "id": "x3tJNcfxn0QX",
        "outputId": "06b8f4ed-8aa0-427c-ec59-b7b41e9b99d3"
      },
      "source": [
        "import matplotlib.pyplot as plt\n",
        "import seaborn as sns\n",
        "\n",
        "dataset = pd.read_csv('menu.csv')\n",
        "\n",
        "dataset.head()"
      ],
      "execution_count": null,
      "outputs": [
        {
          "output_type": "execute_result",
          "data": {
            "text/html": [
              "<div>\n",
              "<style scoped>\n",
              "    .dataframe tbody tr th:only-of-type {\n",
              "        vertical-align: middle;\n",
              "    }\n",
              "\n",
              "    .dataframe tbody tr th {\n",
              "        vertical-align: top;\n",
              "    }\n",
              "\n",
              "    .dataframe thead th {\n",
              "        text-align: right;\n",
              "    }\n",
              "</style>\n",
              "<table border=\"1\" class=\"dataframe\">\n",
              "  <thead>\n",
              "    <tr style=\"text-align: right;\">\n",
              "      <th></th>\n",
              "      <th>Category</th>\n",
              "      <th>Item</th>\n",
              "      <th>Serving Size</th>\n",
              "      <th>Calories</th>\n",
              "      <th>Calories from Fat</th>\n",
              "      <th>Total Fat</th>\n",
              "      <th>Total Fat (% Daily Value)</th>\n",
              "      <th>Saturated Fat</th>\n",
              "      <th>Saturated Fat (% Daily Value)</th>\n",
              "      <th>Trans Fat</th>\n",
              "      <th>Cholesterol</th>\n",
              "      <th>Cholesterol (% Daily Value)</th>\n",
              "      <th>Sodium</th>\n",
              "      <th>Sodium (% Daily Value)</th>\n",
              "      <th>Carbohydrates</th>\n",
              "      <th>Carbohydrates (% Daily Value)</th>\n",
              "      <th>Dietary Fiber</th>\n",
              "      <th>Dietary Fiber (% Daily Value)</th>\n",
              "      <th>Sugars</th>\n",
              "      <th>Protein</th>\n",
              "      <th>Vitamin A (% Daily Value)</th>\n",
              "      <th>Vitamin C (% Daily Value)</th>\n",
              "      <th>Calcium (% Daily Value)</th>\n",
              "      <th>Iron (% Daily Value)</th>\n",
              "    </tr>\n",
              "  </thead>\n",
              "  <tbody>\n",
              "    <tr>\n",
              "      <th>0</th>\n",
              "      <td>Breakfast</td>\n",
              "      <td>Egg McMuffin</td>\n",
              "      <td>4.8 oz (136 g)</td>\n",
              "      <td>300</td>\n",
              "      <td>120</td>\n",
              "      <td>13.0</td>\n",
              "      <td>20</td>\n",
              "      <td>5.0</td>\n",
              "      <td>25</td>\n",
              "      <td>0.0</td>\n",
              "      <td>260</td>\n",
              "      <td>87</td>\n",
              "      <td>750</td>\n",
              "      <td>31</td>\n",
              "      <td>31</td>\n",
              "      <td>10</td>\n",
              "      <td>4</td>\n",
              "      <td>17</td>\n",
              "      <td>3</td>\n",
              "      <td>17</td>\n",
              "      <td>10</td>\n",
              "      <td>0</td>\n",
              "      <td>25</td>\n",
              "      <td>15</td>\n",
              "    </tr>\n",
              "    <tr>\n",
              "      <th>1</th>\n",
              "      <td>Breakfast</td>\n",
              "      <td>Egg White Delight</td>\n",
              "      <td>4.8 oz (135 g)</td>\n",
              "      <td>250</td>\n",
              "      <td>70</td>\n",
              "      <td>8.0</td>\n",
              "      <td>12</td>\n",
              "      <td>3.0</td>\n",
              "      <td>15</td>\n",
              "      <td>0.0</td>\n",
              "      <td>25</td>\n",
              "      <td>8</td>\n",
              "      <td>770</td>\n",
              "      <td>32</td>\n",
              "      <td>30</td>\n",
              "      <td>10</td>\n",
              "      <td>4</td>\n",
              "      <td>17</td>\n",
              "      <td>3</td>\n",
              "      <td>18</td>\n",
              "      <td>6</td>\n",
              "      <td>0</td>\n",
              "      <td>25</td>\n",
              "      <td>8</td>\n",
              "    </tr>\n",
              "    <tr>\n",
              "      <th>2</th>\n",
              "      <td>Breakfast</td>\n",
              "      <td>Sausage McMuffin</td>\n",
              "      <td>3.9 oz (111 g)</td>\n",
              "      <td>370</td>\n",
              "      <td>200</td>\n",
              "      <td>23.0</td>\n",
              "      <td>35</td>\n",
              "      <td>8.0</td>\n",
              "      <td>42</td>\n",
              "      <td>0.0</td>\n",
              "      <td>45</td>\n",
              "      <td>15</td>\n",
              "      <td>780</td>\n",
              "      <td>33</td>\n",
              "      <td>29</td>\n",
              "      <td>10</td>\n",
              "      <td>4</td>\n",
              "      <td>17</td>\n",
              "      <td>2</td>\n",
              "      <td>14</td>\n",
              "      <td>8</td>\n",
              "      <td>0</td>\n",
              "      <td>25</td>\n",
              "      <td>10</td>\n",
              "    </tr>\n",
              "    <tr>\n",
              "      <th>3</th>\n",
              "      <td>Breakfast</td>\n",
              "      <td>Sausage McMuffin with Egg</td>\n",
              "      <td>5.7 oz (161 g)</td>\n",
              "      <td>450</td>\n",
              "      <td>250</td>\n",
              "      <td>28.0</td>\n",
              "      <td>43</td>\n",
              "      <td>10.0</td>\n",
              "      <td>52</td>\n",
              "      <td>0.0</td>\n",
              "      <td>285</td>\n",
              "      <td>95</td>\n",
              "      <td>860</td>\n",
              "      <td>36</td>\n",
              "      <td>30</td>\n",
              "      <td>10</td>\n",
              "      <td>4</td>\n",
              "      <td>17</td>\n",
              "      <td>2</td>\n",
              "      <td>21</td>\n",
              "      <td>15</td>\n",
              "      <td>0</td>\n",
              "      <td>30</td>\n",
              "      <td>15</td>\n",
              "    </tr>\n",
              "    <tr>\n",
              "      <th>4</th>\n",
              "      <td>Breakfast</td>\n",
              "      <td>Sausage McMuffin with Egg Whites</td>\n",
              "      <td>5.7 oz (161 g)</td>\n",
              "      <td>400</td>\n",
              "      <td>210</td>\n",
              "      <td>23.0</td>\n",
              "      <td>35</td>\n",
              "      <td>8.0</td>\n",
              "      <td>42</td>\n",
              "      <td>0.0</td>\n",
              "      <td>50</td>\n",
              "      <td>16</td>\n",
              "      <td>880</td>\n",
              "      <td>37</td>\n",
              "      <td>30</td>\n",
              "      <td>10</td>\n",
              "      <td>4</td>\n",
              "      <td>17</td>\n",
              "      <td>2</td>\n",
              "      <td>21</td>\n",
              "      <td>6</td>\n",
              "      <td>0</td>\n",
              "      <td>25</td>\n",
              "      <td>10</td>\n",
              "    </tr>\n",
              "  </tbody>\n",
              "</table>\n",
              "</div>"
            ],
            "text/plain": [
              "    Category  ... Iron (% Daily Value)\n",
              "0  Breakfast  ...                   15\n",
              "1  Breakfast  ...                    8\n",
              "2  Breakfast  ...                   10\n",
              "3  Breakfast  ...                   15\n",
              "4  Breakfast  ...                   10\n",
              "\n",
              "[5 rows x 24 columns]"
            ]
          },
          "metadata": {
            "tags": []
          },
          "execution_count": 4
        }
      ]
    },
    {
      "cell_type": "markdown",
      "metadata": {
        "id": "SAh3i1L5n_fB"
      },
      "source": [
        "Before we begin to interpret the MCD Data, we can try to checking the data type, how many rows and columns in data, or we can gain statistic information of the data."
      ]
    },
    {
      "cell_type": "code",
      "metadata": {
        "colab": {
          "base_uri": "https://localhost:8080/"
        },
        "id": "XDXU_xsMptcV",
        "outputId": "0578ba9e-5454-4b05-e129-4cc8eadbbefb"
      },
      "source": [
        "# checking data type\r\n",
        "dataset.dtypes"
      ],
      "execution_count": null,
      "outputs": [
        {
          "output_type": "execute_result",
          "data": {
            "text/plain": [
              "Category                          object\n",
              "Item                              object\n",
              "Serving Size                      object\n",
              "Calories                           int64\n",
              "Calories from Fat                  int64\n",
              "Total Fat                        float64\n",
              "Total Fat (% Daily Value)          int64\n",
              "Saturated Fat                    float64\n",
              "Saturated Fat (% Daily Value)      int64\n",
              "Trans Fat                        float64\n",
              "Cholesterol                        int64\n",
              "Cholesterol (% Daily Value)        int64\n",
              "Sodium                             int64\n",
              "Sodium (% Daily Value)             int64\n",
              "Carbohydrates                      int64\n",
              "Carbohydrates (% Daily Value)      int64\n",
              "Dietary Fiber                      int64\n",
              "Dietary Fiber (% Daily Value)      int64\n",
              "Sugars                             int64\n",
              "Protein                            int64\n",
              "Vitamin A (% Daily Value)          int64\n",
              "Vitamin C (% Daily Value)          int64\n",
              "Calcium (% Daily Value)            int64\n",
              "Iron (% Daily Value)               int64\n",
              "dtype: object"
            ]
          },
          "metadata": {
            "tags": []
          },
          "execution_count": 5
        }
      ]
    },
    {
      "cell_type": "code",
      "metadata": {
        "colab": {
          "base_uri": "https://localhost:8080/"
        },
        "id": "rnxpbtxJcrfO",
        "outputId": "48ea2279-3149-4590-f7a8-4843cead83dc"
      },
      "source": [
        "# data info\r\n",
        "dataset.info()"
      ],
      "execution_count": null,
      "outputs": [
        {
          "output_type": "stream",
          "text": [
            "<class 'pandas.core.frame.DataFrame'>\n",
            "RangeIndex: 260 entries, 0 to 259\n",
            "Data columns (total 24 columns):\n",
            " #   Column                         Non-Null Count  Dtype  \n",
            "---  ------                         --------------  -----  \n",
            " 0   Category                       260 non-null    object \n",
            " 1   Item                           260 non-null    object \n",
            " 2   Serving Size                   260 non-null    object \n",
            " 3   Calories                       260 non-null    int64  \n",
            " 4   Calories from Fat              260 non-null    int64  \n",
            " 5   Total Fat                      260 non-null    float64\n",
            " 6   Total Fat (% Daily Value)      260 non-null    int64  \n",
            " 7   Saturated Fat                  260 non-null    float64\n",
            " 8   Saturated Fat (% Daily Value)  260 non-null    int64  \n",
            " 9   Trans Fat                      260 non-null    float64\n",
            " 10  Cholesterol                    260 non-null    int64  \n",
            " 11  Cholesterol (% Daily Value)    260 non-null    int64  \n",
            " 12  Sodium                         260 non-null    int64  \n",
            " 13  Sodium (% Daily Value)         260 non-null    int64  \n",
            " 14  Carbohydrates                  260 non-null    int64  \n",
            " 15  Carbohydrates (% Daily Value)  260 non-null    int64  \n",
            " 16  Dietary Fiber                  260 non-null    int64  \n",
            " 17  Dietary Fiber (% Daily Value)  260 non-null    int64  \n",
            " 18  Sugars                         260 non-null    int64  \n",
            " 19  Protein                        260 non-null    int64  \n",
            " 20  Vitamin A (% Daily Value)      260 non-null    int64  \n",
            " 21  Vitamin C (% Daily Value)      260 non-null    int64  \n",
            " 22  Calcium (% Daily Value)        260 non-null    int64  \n",
            " 23  Iron (% Daily Value)           260 non-null    int64  \n",
            "dtypes: float64(3), int64(18), object(3)\n",
            "memory usage: 48.9+ KB\n"
          ],
          "name": "stdout"
        }
      ]
    },
    {
      "cell_type": "code",
      "metadata": {
        "colab": {
          "base_uri": "https://localhost:8080/"
        },
        "id": "2iUG3Bmortv1",
        "outputId": "4a8b1a65-454f-4cd3-a211-e7970a59a8fb"
      },
      "source": [
        "# checking data size\r\n",
        "dataset.shape"
      ],
      "execution_count": null,
      "outputs": [
        {
          "output_type": "execute_result",
          "data": {
            "text/plain": [
              "(260, 24)"
            ]
          },
          "metadata": {
            "tags": []
          },
          "execution_count": 7
        }
      ]
    },
    {
      "cell_type": "code",
      "metadata": {
        "colab": {
          "base_uri": "https://localhost:8080/",
          "height": 372
        },
        "id": "dR91ZqufrzhS",
        "outputId": "3144cce7-9c09-43bb-f54c-787fd4e8e866"
      },
      "source": [
        "dataset.describe()"
      ],
      "execution_count": null,
      "outputs": [
        {
          "output_type": "execute_result",
          "data": {
            "text/html": [
              "<div>\n",
              "<style scoped>\n",
              "    .dataframe tbody tr th:only-of-type {\n",
              "        vertical-align: middle;\n",
              "    }\n",
              "\n",
              "    .dataframe tbody tr th {\n",
              "        vertical-align: top;\n",
              "    }\n",
              "\n",
              "    .dataframe thead th {\n",
              "        text-align: right;\n",
              "    }\n",
              "</style>\n",
              "<table border=\"1\" class=\"dataframe\">\n",
              "  <thead>\n",
              "    <tr style=\"text-align: right;\">\n",
              "      <th></th>\n",
              "      <th>Calories</th>\n",
              "      <th>Calories from Fat</th>\n",
              "      <th>Total Fat</th>\n",
              "      <th>Total Fat (% Daily Value)</th>\n",
              "      <th>Saturated Fat</th>\n",
              "      <th>Saturated Fat (% Daily Value)</th>\n",
              "      <th>Trans Fat</th>\n",
              "      <th>Cholesterol</th>\n",
              "      <th>Cholesterol (% Daily Value)</th>\n",
              "      <th>Sodium</th>\n",
              "      <th>Sodium (% Daily Value)</th>\n",
              "      <th>Carbohydrates</th>\n",
              "      <th>Carbohydrates (% Daily Value)</th>\n",
              "      <th>Dietary Fiber</th>\n",
              "      <th>Dietary Fiber (% Daily Value)</th>\n",
              "      <th>Sugars</th>\n",
              "      <th>Protein</th>\n",
              "      <th>Vitamin A (% Daily Value)</th>\n",
              "      <th>Vitamin C (% Daily Value)</th>\n",
              "      <th>Calcium (% Daily Value)</th>\n",
              "      <th>Iron (% Daily Value)</th>\n",
              "    </tr>\n",
              "  </thead>\n",
              "  <tbody>\n",
              "    <tr>\n",
              "      <th>count</th>\n",
              "      <td>260.000000</td>\n",
              "      <td>260.000000</td>\n",
              "      <td>260.000000</td>\n",
              "      <td>260.000000</td>\n",
              "      <td>260.000000</td>\n",
              "      <td>260.000000</td>\n",
              "      <td>260.000000</td>\n",
              "      <td>260.000000</td>\n",
              "      <td>260.000000</td>\n",
              "      <td>260.000000</td>\n",
              "      <td>260.000000</td>\n",
              "      <td>260.000000</td>\n",
              "      <td>260.000000</td>\n",
              "      <td>260.000000</td>\n",
              "      <td>260.000000</td>\n",
              "      <td>260.000000</td>\n",
              "      <td>260.000000</td>\n",
              "      <td>260.000000</td>\n",
              "      <td>260.000000</td>\n",
              "      <td>260.000000</td>\n",
              "      <td>260.000000</td>\n",
              "    </tr>\n",
              "    <tr>\n",
              "      <th>mean</th>\n",
              "      <td>368.269231</td>\n",
              "      <td>127.096154</td>\n",
              "      <td>14.165385</td>\n",
              "      <td>21.815385</td>\n",
              "      <td>6.007692</td>\n",
              "      <td>29.965385</td>\n",
              "      <td>0.203846</td>\n",
              "      <td>54.942308</td>\n",
              "      <td>18.392308</td>\n",
              "      <td>495.750000</td>\n",
              "      <td>20.676923</td>\n",
              "      <td>47.346154</td>\n",
              "      <td>15.780769</td>\n",
              "      <td>1.630769</td>\n",
              "      <td>6.530769</td>\n",
              "      <td>29.423077</td>\n",
              "      <td>13.338462</td>\n",
              "      <td>13.426923</td>\n",
              "      <td>8.534615</td>\n",
              "      <td>20.973077</td>\n",
              "      <td>7.734615</td>\n",
              "    </tr>\n",
              "    <tr>\n",
              "      <th>std</th>\n",
              "      <td>240.269886</td>\n",
              "      <td>127.875914</td>\n",
              "      <td>14.205998</td>\n",
              "      <td>21.885199</td>\n",
              "      <td>5.321873</td>\n",
              "      <td>26.639209</td>\n",
              "      <td>0.429133</td>\n",
              "      <td>87.269257</td>\n",
              "      <td>29.091653</td>\n",
              "      <td>577.026323</td>\n",
              "      <td>24.034954</td>\n",
              "      <td>28.252232</td>\n",
              "      <td>9.419544</td>\n",
              "      <td>1.567717</td>\n",
              "      <td>6.307057</td>\n",
              "      <td>28.679797</td>\n",
              "      <td>11.426146</td>\n",
              "      <td>24.366381</td>\n",
              "      <td>26.345542</td>\n",
              "      <td>17.019953</td>\n",
              "      <td>8.723263</td>\n",
              "    </tr>\n",
              "    <tr>\n",
              "      <th>min</th>\n",
              "      <td>0.000000</td>\n",
              "      <td>0.000000</td>\n",
              "      <td>0.000000</td>\n",
              "      <td>0.000000</td>\n",
              "      <td>0.000000</td>\n",
              "      <td>0.000000</td>\n",
              "      <td>0.000000</td>\n",
              "      <td>0.000000</td>\n",
              "      <td>0.000000</td>\n",
              "      <td>0.000000</td>\n",
              "      <td>0.000000</td>\n",
              "      <td>0.000000</td>\n",
              "      <td>0.000000</td>\n",
              "      <td>0.000000</td>\n",
              "      <td>0.000000</td>\n",
              "      <td>0.000000</td>\n",
              "      <td>0.000000</td>\n",
              "      <td>0.000000</td>\n",
              "      <td>0.000000</td>\n",
              "      <td>0.000000</td>\n",
              "      <td>0.000000</td>\n",
              "    </tr>\n",
              "    <tr>\n",
              "      <th>25%</th>\n",
              "      <td>210.000000</td>\n",
              "      <td>20.000000</td>\n",
              "      <td>2.375000</td>\n",
              "      <td>3.750000</td>\n",
              "      <td>1.000000</td>\n",
              "      <td>4.750000</td>\n",
              "      <td>0.000000</td>\n",
              "      <td>5.000000</td>\n",
              "      <td>2.000000</td>\n",
              "      <td>107.500000</td>\n",
              "      <td>4.750000</td>\n",
              "      <td>30.000000</td>\n",
              "      <td>10.000000</td>\n",
              "      <td>0.000000</td>\n",
              "      <td>0.000000</td>\n",
              "      <td>5.750000</td>\n",
              "      <td>4.000000</td>\n",
              "      <td>2.000000</td>\n",
              "      <td>0.000000</td>\n",
              "      <td>6.000000</td>\n",
              "      <td>0.000000</td>\n",
              "    </tr>\n",
              "    <tr>\n",
              "      <th>50%</th>\n",
              "      <td>340.000000</td>\n",
              "      <td>100.000000</td>\n",
              "      <td>11.000000</td>\n",
              "      <td>17.000000</td>\n",
              "      <td>5.000000</td>\n",
              "      <td>24.000000</td>\n",
              "      <td>0.000000</td>\n",
              "      <td>35.000000</td>\n",
              "      <td>11.000000</td>\n",
              "      <td>190.000000</td>\n",
              "      <td>8.000000</td>\n",
              "      <td>44.000000</td>\n",
              "      <td>15.000000</td>\n",
              "      <td>1.000000</td>\n",
              "      <td>5.000000</td>\n",
              "      <td>17.500000</td>\n",
              "      <td>12.000000</td>\n",
              "      <td>8.000000</td>\n",
              "      <td>0.000000</td>\n",
              "      <td>20.000000</td>\n",
              "      <td>4.000000</td>\n",
              "    </tr>\n",
              "    <tr>\n",
              "      <th>75%</th>\n",
              "      <td>500.000000</td>\n",
              "      <td>200.000000</td>\n",
              "      <td>22.250000</td>\n",
              "      <td>35.000000</td>\n",
              "      <td>10.000000</td>\n",
              "      <td>48.000000</td>\n",
              "      <td>0.000000</td>\n",
              "      <td>65.000000</td>\n",
              "      <td>21.250000</td>\n",
              "      <td>865.000000</td>\n",
              "      <td>36.250000</td>\n",
              "      <td>60.000000</td>\n",
              "      <td>20.000000</td>\n",
              "      <td>3.000000</td>\n",
              "      <td>10.000000</td>\n",
              "      <td>48.000000</td>\n",
              "      <td>19.000000</td>\n",
              "      <td>15.000000</td>\n",
              "      <td>4.000000</td>\n",
              "      <td>30.000000</td>\n",
              "      <td>15.000000</td>\n",
              "    </tr>\n",
              "    <tr>\n",
              "      <th>max</th>\n",
              "      <td>1880.000000</td>\n",
              "      <td>1060.000000</td>\n",
              "      <td>118.000000</td>\n",
              "      <td>182.000000</td>\n",
              "      <td>20.000000</td>\n",
              "      <td>102.000000</td>\n",
              "      <td>2.500000</td>\n",
              "      <td>575.000000</td>\n",
              "      <td>192.000000</td>\n",
              "      <td>3600.000000</td>\n",
              "      <td>150.000000</td>\n",
              "      <td>141.000000</td>\n",
              "      <td>47.000000</td>\n",
              "      <td>7.000000</td>\n",
              "      <td>28.000000</td>\n",
              "      <td>128.000000</td>\n",
              "      <td>87.000000</td>\n",
              "      <td>170.000000</td>\n",
              "      <td>240.000000</td>\n",
              "      <td>70.000000</td>\n",
              "      <td>40.000000</td>\n",
              "    </tr>\n",
              "  </tbody>\n",
              "</table>\n",
              "</div>"
            ],
            "text/plain": [
              "          Calories  ...  Iron (% Daily Value)\n",
              "count   260.000000  ...            260.000000\n",
              "mean    368.269231  ...              7.734615\n",
              "std     240.269886  ...              8.723263\n",
              "min       0.000000  ...              0.000000\n",
              "25%     210.000000  ...              0.000000\n",
              "50%     340.000000  ...              4.000000\n",
              "75%     500.000000  ...             15.000000\n",
              "max    1880.000000  ...             40.000000\n",
              "\n",
              "[8 rows x 21 columns]"
            ]
          },
          "metadata": {
            "tags": []
          },
          "execution_count": 8
        }
      ]
    },
    {
      "cell_type": "markdown",
      "metadata": {
        "id": "dPO-xd6BdtSO"
      },
      "source": [
        "From explanation above we can understand that there are no duplicated data or missing value. Then, we can jump to the next step."
      ]
    },
    {
      "cell_type": "markdown",
      "metadata": {
        "papermill": {
          "duration": 0.015043,
          "end_time": "2021-01-10T13:04:47.203637",
          "exception": false,
          "start_time": "2021-01-10T13:04:47.188594",
          "status": "completed"
        },
        "tags": [],
        "id": "BI2rKL6In0QZ"
      },
      "source": [
        "# **Total Calories Average**"
      ]
    },
    {
      "cell_type": "markdown",
      "metadata": {
        "papermill": {
          "duration": 0.014882,
          "end_time": "2021-01-10T13:04:47.233667",
          "exception": false,
          "start_time": "2021-01-10T13:04:47.218785",
          "status": "completed"
        },
        "tags": [],
        "id": "yZdar6-zn0Qb"
      },
      "source": [
        "I want to know how many calories average of MCD's meal by each category"
      ]
    },
    {
      "cell_type": "code",
      "metadata": {
        "execution": {
          "iopub.execute_input": "2021-01-10T13:04:47.279510Z",
          "iopub.status.busy": "2021-01-10T13:04:47.278811Z",
          "iopub.status.idle": "2021-01-10T13:04:47.598783Z",
          "shell.execute_reply": "2021-01-10T13:04:47.598116Z"
        },
        "papermill": {
          "duration": 0.350134,
          "end_time": "2021-01-10T13:04:47.598906",
          "exception": false,
          "start_time": "2021-01-10T13:04:47.248772",
          "status": "completed"
        },
        "tags": [],
        "colab": {
          "base_uri": "https://localhost:8080/",
          "height": 387
        },
        "id": "MifLcX5Nn0Qe",
        "outputId": "7781798f-5b05-4660-bcb0-f8b585b7cbdd"
      },
      "source": [
        "# How many calories does the average McDonald's value meal contain?\n",
        "\n",
        "calories_data = dataset.iloc[:,0:5]\n",
        "calories_data['Total Calories'] = calories_data['Calories']+calories_data['Calories from Fat']\n",
        "calories_by_category = calories_data.groupby('Category').mean().sort_values(by='Total Calories')\n",
        "calories_by_category\n",
        "\n",
        "calories_by_category.iloc[:,:2].plot(kind='bar', stacked=True)\n",
        "plt.title('Total Calories Average by Category')\n",
        "plt.ylabel('Total Calories')\n",
        "plt.show()"
      ],
      "execution_count": null,
      "outputs": [
        {
          "output_type": "display_data",
          "data": {
            "image/png": "[encoded data removed]",
            "text/plain": [
              "<Figure size 432x288 with 1 Axes>"
            ]
          },
          "metadata": {
            "tags": [],
            "needs_background": "light"
          }
        }
      ]
    },
    {
      "cell_type": "markdown",
      "metadata": {
        "id": "8kZK1EWBsZKx"
      },
      "source": [
        "From the graph above, **we can see that 'smoothies & shakes' has the highest calories average, however, beverages has the lowest calories average amongs all category.**"
      ]
    },
    {
      "cell_type": "markdown",
      "metadata": {
        "papermill": {
          "duration": 0.016138,
          "end_time": "2021-01-10T13:04:47.631840",
          "exception": false,
          "start_time": "2021-01-10T13:04:47.615702",
          "status": "completed"
        },
        "tags": [],
        "id": "dUIDqdBCn0Qg"
      },
      "source": [
        "# Beverages Contribute to Overall Caloric Intake"
      ]
    },
    {
      "cell_type": "markdown",
      "metadata": {
        "papermill": {
          "duration": 0.015646,
          "end_time": "2021-01-10T13:04:47.663924",
          "exception": false,
          "start_time": "2021-01-10T13:04:47.648278",
          "status": "completed"
        },
        "tags": [],
        "id": "KqFSjZIwn0Qi"
      },
      "source": [
        "Then, how much do each beverages contribute to overall caloric intake?"
      ]
    },
    {
      "cell_type": "code",
      "metadata": {
        "execution": {
          "iopub.execute_input": "2021-01-10T13:04:47.714781Z",
          "iopub.status.busy": "2021-01-10T13:04:47.714113Z",
          "iopub.status.idle": "2021-01-10T13:04:47.819440Z",
          "shell.execute_reply": "2021-01-10T13:04:47.818740Z"
        },
        "papermill": {
          "duration": 0.139372,
          "end_time": "2021-01-10T13:04:47.819569",
          "exception": false,
          "start_time": "2021-01-10T13:04:47.680197",
          "status": "completed"
        },
        "tags": [],
        "colab": {
          "base_uri": "https://localhost:8080/",
          "height": 373
        },
        "id": "5NLAmxTsn0Qj",
        "outputId": "4f7ddfc3-6835-4770-ad8a-5fff5a6ab816"
      },
      "source": [
        "# How much do beverages, like soda or coffee, contribute to the overall caloric intake?\n",
        "calories_by_categorysum = calories_data.groupby('Category', axis=0).sum()\n",
        "calories_by_categorysum\n",
        "\n",
        "calories_by_categorysum['Calories'].plot(kind='pie',\n",
        "                            figsize=(5, 6),\n",
        "                            autopct='%1.1f%%', # add in percentages\n",
        "                            shadow=True,       # add shadow      \n",
        "                            )\n",
        "\n",
        "plt.title('Percent Calories by Category')\n",
        "plt.axis('equal') # Sets the pie chart to look like a circle.\n",
        "plt.show()"
      ],
      "execution_count": null,
      "outputs": [
        {
          "output_type": "display_data",
          "data": {
            "image/png": "[encoded data removed]",
            "text/plain": [
              "<Figure size 360x432 with 1 Axes>"
            ]
          },
          "metadata": {
            "tags": []
          }
        }
      ]
    },
    {
      "cell_type": "markdown",
      "metadata": {
        "id": "viQuwehStGRr"
      },
      "source": [
        "To gain more understanding about the data, i want to know how much percent beverages contributes to overall caloric intake. **Based on the pie chart, we can see that beverages give 3.2% caloric.**"
      ]
    },
    {
      "cell_type": "markdown",
      "metadata": {
        "papermill": {
          "duration": 0.017437,
          "end_time": "2021-01-10T13:04:47.854887",
          "exception": false,
          "start_time": "2021-01-10T13:04:47.837450",
          "status": "completed"
        },
        "tags": [],
        "id": "pIkJFyVMn0Qm"
      },
      "source": [
        "# **Grilled Chicken vs Crispy Chicken**"
      ]
    },
    {
      "cell_type": "markdown",
      "metadata": {
        "papermill": {
          "duration": 0.018074,
          "end_time": "2021-01-10T13:04:47.890373",
          "exception": false,
          "start_time": "2021-01-10T13:04:47.872299",
          "status": "completed"
        },
        "tags": [],
        "id": "20mNi-ngn0Qr"
      },
      "source": [
        "I want to know which one of grilled chicken or crispy chicken give a better nutrition. By asumming nutrition is total value of Calories, Total Fat, Saturated Fat, Cholesterol, Sodium, Carbohydrates, Dietary Fiber, Sugars, Protein."
      ]
    },
    {
      "cell_type": "code",
      "metadata": {
        "execution": {
          "iopub.execute_input": "2021-01-10T13:04:47.938409Z",
          "iopub.status.busy": "2021-01-10T13:04:47.937591Z",
          "iopub.status.idle": "2021-01-10T13:04:47.963373Z",
          "shell.execute_reply": "2021-01-10T13:04:47.962631Z"
        },
        "papermill": {
          "duration": 0.055092,
          "end_time": "2021-01-10T13:04:47.963492",
          "exception": false,
          "start_time": "2021-01-10T13:04:47.908400",
          "status": "completed"
        },
        "tags": [],
        "colab": {
          "base_uri": "https://localhost:8080/",
          "height": 731
        },
        "id": "PS1k33aun0Qs",
        "outputId": "50e9a375-14f4-452f-860f-37843ae72cbd"
      },
      "source": [
        "sandwich_data = dataset[dataset['Item'].str.contains('Sandwich')]\n",
        "sandwich_data = sandwich_data.iloc[:,[1,6,8,11,13,15,17,20,21,22,23]]\n",
        "sandwich_data['Total Daily Value'] = sandwich_data.sum(axis=1)\n",
        "sandwich_data['Chicken Type'] = sandwich_data['Item'].str.extract(\"(Crispy|Grilled)\")\n",
        "sandwich_data['Item Type'] = sandwich_data['Item'].str.extract(\"(Classic|Club|Ranch|Bacon|Southern)\")\n",
        "sandwich_data\n",
        "\n"
      ],
      "execution_count": null,
      "outputs": [
        {
          "output_type": "execute_result",
          "data": {
            "text/html": [
              "<div>\n",
              "<style scoped>\n",
              "    .dataframe tbody tr th:only-of-type {\n",
              "        vertical-align: middle;\n",
              "    }\n",
              "\n",
              "    .dataframe tbody tr th {\n",
              "        vertical-align: top;\n",
              "    }\n",
              "\n",
              "    .dataframe thead th {\n",
              "        text-align: right;\n",
              "    }\n",
              "</style>\n",
              "<table border=\"1\" class=\"dataframe\">\n",
              "  <thead>\n",
              "    <tr style=\"text-align: right;\">\n",
              "      <th></th>\n",
              "      <th>Item</th>\n",
              "      <th>Total Fat (% Daily Value)</th>\n",
              "      <th>Saturated Fat (% Daily Value)</th>\n",
              "      <th>Cholesterol (% Daily Value)</th>\n",
              "      <th>Sodium (% Daily Value)</th>\n",
              "      <th>Carbohydrates (% Daily Value)</th>\n",
              "      <th>Dietary Fiber (% Daily Value)</th>\n",
              "      <th>Vitamin A (% Daily Value)</th>\n",
              "      <th>Vitamin C (% Daily Value)</th>\n",
              "      <th>Calcium (% Daily Value)</th>\n",
              "      <th>Iron (% Daily Value)</th>\n",
              "      <th>Total Daily Value</th>\n",
              "      <th>Chicken Type</th>\n",
              "      <th>Item Type</th>\n",
              "    </tr>\n",
              "  </thead>\n",
              "  <tbody>\n",
              "    <tr>\n",
              "      <th>57</th>\n",
              "      <td>Premium Crispy Chicken Classic Sandwich</td>\n",
              "      <td>33</td>\n",
              "      <td>18</td>\n",
              "      <td>16</td>\n",
              "      <td>41</td>\n",
              "      <td>18</td>\n",
              "      <td>13</td>\n",
              "      <td>4</td>\n",
              "      <td>6</td>\n",
              "      <td>15</td>\n",
              "      <td>20</td>\n",
              "      <td>184</td>\n",
              "      <td>Crispy</td>\n",
              "      <td>Classic</td>\n",
              "    </tr>\n",
              "    <tr>\n",
              "      <th>58</th>\n",
              "      <td>Premium Grilled Chicken Classic Sandwich</td>\n",
              "      <td>13</td>\n",
              "      <td>9</td>\n",
              "      <td>22</td>\n",
              "      <td>34</td>\n",
              "      <td>14</td>\n",
              "      <td>13</td>\n",
              "      <td>4</td>\n",
              "      <td>8</td>\n",
              "      <td>15</td>\n",
              "      <td>20</td>\n",
              "      <td>152</td>\n",
              "      <td>Grilled</td>\n",
              "      <td>Classic</td>\n",
              "    </tr>\n",
              "    <tr>\n",
              "      <th>59</th>\n",
              "      <td>Premium Crispy Chicken Club Sandwich</td>\n",
              "      <td>51</td>\n",
              "      <td>44</td>\n",
              "      <td>29</td>\n",
              "      <td>59</td>\n",
              "      <td>19</td>\n",
              "      <td>14</td>\n",
              "      <td>8</td>\n",
              "      <td>20</td>\n",
              "      <td>30</td>\n",
              "      <td>20</td>\n",
              "      <td>294</td>\n",
              "      <td>Crispy</td>\n",
              "      <td>Club</td>\n",
              "    </tr>\n",
              "    <tr>\n",
              "      <th>60</th>\n",
              "      <td>Premium Grilled Chicken Club Sandwich</td>\n",
              "      <td>31</td>\n",
              "      <td>36</td>\n",
              "      <td>35</td>\n",
              "      <td>52</td>\n",
              "      <td>15</td>\n",
              "      <td>13</td>\n",
              "      <td>8</td>\n",
              "      <td>20</td>\n",
              "      <td>30</td>\n",
              "      <td>20</td>\n",
              "      <td>260</td>\n",
              "      <td>Grilled</td>\n",
              "      <td>Club</td>\n",
              "    </tr>\n",
              "    <tr>\n",
              "      <th>61</th>\n",
              "      <td>Premium Crispy Chicken Ranch BLT Sandwich</td>\n",
              "      <td>43</td>\n",
              "      <td>31</td>\n",
              "      <td>24</td>\n",
              "      <td>58</td>\n",
              "      <td>19</td>\n",
              "      <td>13</td>\n",
              "      <td>4</td>\n",
              "      <td>20</td>\n",
              "      <td>15</td>\n",
              "      <td>20</td>\n",
              "      <td>247</td>\n",
              "      <td>Crispy</td>\n",
              "      <td>Ranch</td>\n",
              "    </tr>\n",
              "    <tr>\n",
              "      <th>62</th>\n",
              "      <td>Premium Grilled Chicken Ranch BLT Sandwich</td>\n",
              "      <td>23</td>\n",
              "      <td>22</td>\n",
              "      <td>30</td>\n",
              "      <td>51</td>\n",
              "      <td>14</td>\n",
              "      <td>13</td>\n",
              "      <td>4</td>\n",
              "      <td>20</td>\n",
              "      <td>15</td>\n",
              "      <td>20</td>\n",
              "      <td>212</td>\n",
              "      <td>Grilled</td>\n",
              "      <td>Ranch</td>\n",
              "    </tr>\n",
              "    <tr>\n",
              "      <th>63</th>\n",
              "      <td>Bacon Clubhouse Crispy Chicken Sandwich</td>\n",
              "      <td>59</td>\n",
              "      <td>51</td>\n",
              "      <td>31</td>\n",
              "      <td>72</td>\n",
              "      <td>22</td>\n",
              "      <td>15</td>\n",
              "      <td>8</td>\n",
              "      <td>25</td>\n",
              "      <td>30</td>\n",
              "      <td>15</td>\n",
              "      <td>328</td>\n",
              "      <td>Crispy</td>\n",
              "      <td>Bacon</td>\n",
              "    </tr>\n",
              "    <tr>\n",
              "      <th>64</th>\n",
              "      <td>Bacon Clubhouse Grilled Chicken Sandwich</td>\n",
              "      <td>39</td>\n",
              "      <td>42</td>\n",
              "      <td>37</td>\n",
              "      <td>65</td>\n",
              "      <td>17</td>\n",
              "      <td>15</td>\n",
              "      <td>8</td>\n",
              "      <td>30</td>\n",
              "      <td>30</td>\n",
              "      <td>15</td>\n",
              "      <td>298</td>\n",
              "      <td>Grilled</td>\n",
              "      <td>Bacon</td>\n",
              "    </tr>\n",
              "    <tr>\n",
              "      <th>65</th>\n",
              "      <td>Southern Style Crispy Chicken Sandwich</td>\n",
              "      <td>29</td>\n",
              "      <td>15</td>\n",
              "      <td>14</td>\n",
              "      <td>38</td>\n",
              "      <td>14</td>\n",
              "      <td>7</td>\n",
              "      <td>4</td>\n",
              "      <td>2</td>\n",
              "      <td>15</td>\n",
              "      <td>15</td>\n",
              "      <td>153</td>\n",
              "      <td>Crispy</td>\n",
              "      <td>Southern</td>\n",
              "    </tr>\n",
              "  </tbody>\n",
              "</table>\n",
              "</div>"
            ],
            "text/plain": [
              "                                          Item  ...  Item Type\n",
              "57     Premium Crispy Chicken Classic Sandwich  ...    Classic\n",
              "58    Premium Grilled Chicken Classic Sandwich  ...    Classic\n",
              "59        Premium Crispy Chicken Club Sandwich  ...       Club\n",
              "60       Premium Grilled Chicken Club Sandwich  ...       Club\n",
              "61   Premium Crispy Chicken Ranch BLT Sandwich  ...      Ranch\n",
              "62  Premium Grilled Chicken Ranch BLT Sandwich  ...      Ranch\n",
              "63     Bacon Clubhouse Crispy Chicken Sandwich  ...      Bacon\n",
              "64    Bacon Clubhouse Grilled Chicken Sandwich  ...      Bacon\n",
              "65      Southern Style Crispy Chicken Sandwich  ...   Southern\n",
              "\n",
              "[9 rows x 14 columns]"
            ]
          },
          "metadata": {
            "tags": []
          },
          "execution_count": 11
        }
      ]
    },
    {
      "cell_type": "code",
      "metadata": {
        "execution": {
          "iopub.execute_input": "2021-01-10T13:04:48.022729Z",
          "iopub.status.busy": "2021-01-10T13:04:48.010915Z",
          "iopub.status.idle": "2021-01-10T13:04:48.026390Z",
          "shell.execute_reply": "2021-01-10T13:04:48.026896Z"
        },
        "papermill": {
          "duration": 0.044788,
          "end_time": "2021-01-10T13:04:48.027049",
          "exception": false,
          "start_time": "2021-01-10T13:04:47.982261",
          "status": "completed"
        },
        "tags": [],
        "colab": {
          "base_uri": "https://localhost:8080/",
          "height": 331
        },
        "id": "nPYHlVdHn0Qv",
        "outputId": "243a9de4-59ce-41e6-d47d-e14cbe4a4b20"
      },
      "source": [
        "\n",
        "sandwich_datax = dataset[dataset['Item'].str.contains('Sandwich')]\n",
        "#sandwich_datax = sandwich_datax.iloc[:,[3,5,8,11,13,15,17,20,21,22,23]]\n",
        "sandwich_datax = sandwich_datax.iloc[:,[1,3,5,7,10,12,14,16,18,19]]\n",
        "sandwich_datax['Chicken Type'] = sandwich_datax['Item'].str.extract(\"(Crispy|Grilled)\")\n",
        "sandwich_datax"
      ],
      "execution_count": null,
      "outputs": [
        {
          "output_type": "execute_result",
          "data": {
            "text/html": [
              "<div>\n",
              "<style scoped>\n",
              "    .dataframe tbody tr th:only-of-type {\n",
              "        vertical-align: middle;\n",
              "    }\n",
              "\n",
              "    .dataframe tbody tr th {\n",
              "        vertical-align: top;\n",
              "    }\n",
              "\n",
              "    .dataframe thead th {\n",
              "        text-align: right;\n",
              "    }\n",
              "</style>\n",
              "<table border=\"1\" class=\"dataframe\">\n",
              "  <thead>\n",
              "    <tr style=\"text-align: right;\">\n",
              "      <th></th>\n",
              "      <th>Item</th>\n",
              "      <th>Calories</th>\n",
              "      <th>Total Fat</th>\n",
              "      <th>Saturated Fat</th>\n",
              "      <th>Cholesterol</th>\n",
              "      <th>Sodium</th>\n",
              "      <th>Carbohydrates</th>\n",
              "      <th>Dietary Fiber</th>\n",
              "      <th>Sugars</th>\n",
              "      <th>Protein</th>\n",
              "      <th>Chicken Type</th>\n",
              "    </tr>\n",
              "  </thead>\n",
              "  <tbody>\n",
              "    <tr>\n",
              "      <th>57</th>\n",
              "      <td>Premium Crispy Chicken Classic Sandwich</td>\n",
              "      <td>510</td>\n",
              "      <td>22.0</td>\n",
              "      <td>3.5</td>\n",
              "      <td>45</td>\n",
              "      <td>990</td>\n",
              "      <td>55</td>\n",
              "      <td>3</td>\n",
              "      <td>10</td>\n",
              "      <td>24</td>\n",
              "      <td>Crispy</td>\n",
              "    </tr>\n",
              "    <tr>\n",
              "      <th>58</th>\n",
              "      <td>Premium Grilled Chicken Classic Sandwich</td>\n",
              "      <td>350</td>\n",
              "      <td>9.0</td>\n",
              "      <td>2.0</td>\n",
              "      <td>65</td>\n",
              "      <td>820</td>\n",
              "      <td>42</td>\n",
              "      <td>3</td>\n",
              "      <td>8</td>\n",
              "      <td>28</td>\n",
              "      <td>Grilled</td>\n",
              "    </tr>\n",
              "    <tr>\n",
              "      <th>59</th>\n",
              "      <td>Premium Crispy Chicken Club Sandwich</td>\n",
              "      <td>670</td>\n",
              "      <td>33.0</td>\n",
              "      <td>9.0</td>\n",
              "      <td>85</td>\n",
              "      <td>1410</td>\n",
              "      <td>58</td>\n",
              "      <td>3</td>\n",
              "      <td>11</td>\n",
              "      <td>36</td>\n",
              "      <td>Crispy</td>\n",
              "    </tr>\n",
              "    <tr>\n",
              "      <th>60</th>\n",
              "      <td>Premium Grilled Chicken Club Sandwich</td>\n",
              "      <td>510</td>\n",
              "      <td>20.0</td>\n",
              "      <td>7.0</td>\n",
              "      <td>105</td>\n",
              "      <td>1250</td>\n",
              "      <td>44</td>\n",
              "      <td>3</td>\n",
              "      <td>9</td>\n",
              "      <td>40</td>\n",
              "      <td>Grilled</td>\n",
              "    </tr>\n",
              "    <tr>\n",
              "      <th>61</th>\n",
              "      <td>Premium Crispy Chicken Ranch BLT Sandwich</td>\n",
              "      <td>610</td>\n",
              "      <td>28.0</td>\n",
              "      <td>6.0</td>\n",
              "      <td>70</td>\n",
              "      <td>1400</td>\n",
              "      <td>57</td>\n",
              "      <td>3</td>\n",
              "      <td>11</td>\n",
              "      <td>32</td>\n",
              "      <td>Crispy</td>\n",
              "    </tr>\n",
              "    <tr>\n",
              "      <th>62</th>\n",
              "      <td>Premium Grilled Chicken Ranch BLT Sandwich</td>\n",
              "      <td>450</td>\n",
              "      <td>15.0</td>\n",
              "      <td>4.5</td>\n",
              "      <td>90</td>\n",
              "      <td>1230</td>\n",
              "      <td>43</td>\n",
              "      <td>3</td>\n",
              "      <td>9</td>\n",
              "      <td>36</td>\n",
              "      <td>Grilled</td>\n",
              "    </tr>\n",
              "    <tr>\n",
              "      <th>63</th>\n",
              "      <td>Bacon Clubhouse Crispy Chicken Sandwich</td>\n",
              "      <td>750</td>\n",
              "      <td>38.0</td>\n",
              "      <td>10.0</td>\n",
              "      <td>90</td>\n",
              "      <td>1720</td>\n",
              "      <td>65</td>\n",
              "      <td>4</td>\n",
              "      <td>16</td>\n",
              "      <td>36</td>\n",
              "      <td>Crispy</td>\n",
              "    </tr>\n",
              "    <tr>\n",
              "      <th>64</th>\n",
              "      <td>Bacon Clubhouse Grilled Chicken Sandwich</td>\n",
              "      <td>590</td>\n",
              "      <td>25.0</td>\n",
              "      <td>8.0</td>\n",
              "      <td>110</td>\n",
              "      <td>1560</td>\n",
              "      <td>51</td>\n",
              "      <td>4</td>\n",
              "      <td>14</td>\n",
              "      <td>40</td>\n",
              "      <td>Grilled</td>\n",
              "    </tr>\n",
              "    <tr>\n",
              "      <th>65</th>\n",
              "      <td>Southern Style Crispy Chicken Sandwich</td>\n",
              "      <td>430</td>\n",
              "      <td>19.0</td>\n",
              "      <td>3.0</td>\n",
              "      <td>45</td>\n",
              "      <td>910</td>\n",
              "      <td>43</td>\n",
              "      <td>2</td>\n",
              "      <td>7</td>\n",
              "      <td>21</td>\n",
              "      <td>Crispy</td>\n",
              "    </tr>\n",
              "  </tbody>\n",
              "</table>\n",
              "</div>"
            ],
            "text/plain": [
              "                                          Item  Calories  ...  Protein  Chicken Type\n",
              "57     Premium Crispy Chicken Classic Sandwich       510  ...       24        Crispy\n",
              "58    Premium Grilled Chicken Classic Sandwich       350  ...       28       Grilled\n",
              "59        Premium Crispy Chicken Club Sandwich       670  ...       36        Crispy\n",
              "60       Premium Grilled Chicken Club Sandwich       510  ...       40       Grilled\n",
              "61   Premium Crispy Chicken Ranch BLT Sandwich       610  ...       32        Crispy\n",
              "62  Premium Grilled Chicken Ranch BLT Sandwich       450  ...       36       Grilled\n",
              "63     Bacon Clubhouse Crispy Chicken Sandwich       750  ...       36        Crispy\n",
              "64    Bacon Clubhouse Grilled Chicken Sandwich       590  ...       40       Grilled\n",
              "65      Southern Style Crispy Chicken Sandwich       430  ...       21        Crispy\n",
              "\n",
              "[9 rows x 11 columns]"
            ]
          },
          "metadata": {
            "tags": []
          },
          "execution_count": 12
        }
      ]
    },
    {
      "cell_type": "code",
      "metadata": {
        "execution": {
          "iopub.execute_input": "2021-01-10T13:04:48.089331Z",
          "iopub.status.busy": "2021-01-10T13:04:48.088371Z",
          "iopub.status.idle": "2021-01-10T13:04:48.092758Z",
          "shell.execute_reply": "2021-01-10T13:04:48.092199Z"
        },
        "papermill": {
          "duration": 0.046478,
          "end_time": "2021-01-10T13:04:48.092886",
          "exception": false,
          "start_time": "2021-01-10T13:04:48.046408",
          "status": "completed"
        },
        "tags": [],
        "colab": {
          "base_uri": "https://localhost:8080/",
          "height": 363
        },
        "id": "Pn63ZGSFn0Qw",
        "outputId": "57b26926-ce4b-421f-e739-8c2f92f5bf19"
      },
      "source": [
        "sandwich_datax['Total Calories'] = sandwich_datax['Calories']+sandwich_datax['Total Fat']+sandwich_datax['Saturated Fat']+sandwich_datax['Sodium']+sandwich_datax['Carbohydrates']+sandwich_datax['Dietary Fiber']+sandwich_datax['Sugars']+sandwich_datax['Protein']+sandwich_datax['Cholesterol']\n",
        "\n",
        "nutrition_by_item = sandwich_datax.groupby('Item').mean().sort_values(by='Item')\n",
        "nutrition_by_item\n"
      ],
      "execution_count": null,
      "outputs": [
        {
          "output_type": "execute_result",
          "data": {
            "text/html": [
              "<div>\n",
              "<style scoped>\n",
              "    .dataframe tbody tr th:only-of-type {\n",
              "        vertical-align: middle;\n",
              "    }\n",
              "\n",
              "    .dataframe tbody tr th {\n",
              "        vertical-align: top;\n",
              "    }\n",
              "\n",
              "    .dataframe thead th {\n",
              "        text-align: right;\n",
              "    }\n",
              "</style>\n",
              "<table border=\"1\" class=\"dataframe\">\n",
              "  <thead>\n",
              "    <tr style=\"text-align: right;\">\n",
              "      <th></th>\n",
              "      <th>Calories</th>\n",
              "      <th>Total Fat</th>\n",
              "      <th>Saturated Fat</th>\n",
              "      <th>Cholesterol</th>\n",
              "      <th>Sodium</th>\n",
              "      <th>Carbohydrates</th>\n",
              "      <th>Dietary Fiber</th>\n",
              "      <th>Sugars</th>\n",
              "      <th>Protein</th>\n",
              "      <th>Total Calories</th>\n",
              "    </tr>\n",
              "    <tr>\n",
              "      <th>Item</th>\n",
              "      <th></th>\n",
              "      <th></th>\n",
              "      <th></th>\n",
              "      <th></th>\n",
              "      <th></th>\n",
              "      <th></th>\n",
              "      <th></th>\n",
              "      <th></th>\n",
              "      <th></th>\n",
              "      <th></th>\n",
              "    </tr>\n",
              "  </thead>\n",
              "  <tbody>\n",
              "    <tr>\n",
              "      <th>Bacon Clubhouse Crispy Chicken Sandwich</th>\n",
              "      <td>750</td>\n",
              "      <td>38.0</td>\n",
              "      <td>10.0</td>\n",
              "      <td>90</td>\n",
              "      <td>1720</td>\n",
              "      <td>65</td>\n",
              "      <td>4</td>\n",
              "      <td>16</td>\n",
              "      <td>36</td>\n",
              "      <td>2729.0</td>\n",
              "    </tr>\n",
              "    <tr>\n",
              "      <th>Bacon Clubhouse Grilled Chicken Sandwich</th>\n",
              "      <td>590</td>\n",
              "      <td>25.0</td>\n",
              "      <td>8.0</td>\n",
              "      <td>110</td>\n",
              "      <td>1560</td>\n",
              "      <td>51</td>\n",
              "      <td>4</td>\n",
              "      <td>14</td>\n",
              "      <td>40</td>\n",
              "      <td>2402.0</td>\n",
              "    </tr>\n",
              "    <tr>\n",
              "      <th>Premium Crispy Chicken Classic Sandwich</th>\n",
              "      <td>510</td>\n",
              "      <td>22.0</td>\n",
              "      <td>3.5</td>\n",
              "      <td>45</td>\n",
              "      <td>990</td>\n",
              "      <td>55</td>\n",
              "      <td>3</td>\n",
              "      <td>10</td>\n",
              "      <td>24</td>\n",
              "      <td>1662.5</td>\n",
              "    </tr>\n",
              "    <tr>\n",
              "      <th>Premium Crispy Chicken Club Sandwich</th>\n",
              "      <td>670</td>\n",
              "      <td>33.0</td>\n",
              "      <td>9.0</td>\n",
              "      <td>85</td>\n",
              "      <td>1410</td>\n",
              "      <td>58</td>\n",
              "      <td>3</td>\n",
              "      <td>11</td>\n",
              "      <td>36</td>\n",
              "      <td>2315.0</td>\n",
              "    </tr>\n",
              "    <tr>\n",
              "      <th>Premium Crispy Chicken Ranch BLT Sandwich</th>\n",
              "      <td>610</td>\n",
              "      <td>28.0</td>\n",
              "      <td>6.0</td>\n",
              "      <td>70</td>\n",
              "      <td>1400</td>\n",
              "      <td>57</td>\n",
              "      <td>3</td>\n",
              "      <td>11</td>\n",
              "      <td>32</td>\n",
              "      <td>2217.0</td>\n",
              "    </tr>\n",
              "    <tr>\n",
              "      <th>Premium Grilled Chicken Classic Sandwich</th>\n",
              "      <td>350</td>\n",
              "      <td>9.0</td>\n",
              "      <td>2.0</td>\n",
              "      <td>65</td>\n",
              "      <td>820</td>\n",
              "      <td>42</td>\n",
              "      <td>3</td>\n",
              "      <td>8</td>\n",
              "      <td>28</td>\n",
              "      <td>1327.0</td>\n",
              "    </tr>\n",
              "    <tr>\n",
              "      <th>Premium Grilled Chicken Club Sandwich</th>\n",
              "      <td>510</td>\n",
              "      <td>20.0</td>\n",
              "      <td>7.0</td>\n",
              "      <td>105</td>\n",
              "      <td>1250</td>\n",
              "      <td>44</td>\n",
              "      <td>3</td>\n",
              "      <td>9</td>\n",
              "      <td>40</td>\n",
              "      <td>1988.0</td>\n",
              "    </tr>\n",
              "    <tr>\n",
              "      <th>Premium Grilled Chicken Ranch BLT Sandwich</th>\n",
              "      <td>450</td>\n",
              "      <td>15.0</td>\n",
              "      <td>4.5</td>\n",
              "      <td>90</td>\n",
              "      <td>1230</td>\n",
              "      <td>43</td>\n",
              "      <td>3</td>\n",
              "      <td>9</td>\n",
              "      <td>36</td>\n",
              "      <td>1880.5</td>\n",
              "    </tr>\n",
              "    <tr>\n",
              "      <th>Southern Style Crispy Chicken Sandwich</th>\n",
              "      <td>430</td>\n",
              "      <td>19.0</td>\n",
              "      <td>3.0</td>\n",
              "      <td>45</td>\n",
              "      <td>910</td>\n",
              "      <td>43</td>\n",
              "      <td>2</td>\n",
              "      <td>7</td>\n",
              "      <td>21</td>\n",
              "      <td>1480.0</td>\n",
              "    </tr>\n",
              "  </tbody>\n",
              "</table>\n",
              "</div>"
            ],
            "text/plain": [
              "                                            Calories  ...  Total Calories\n",
              "Item                                                  ...                \n",
              "Bacon Clubhouse Crispy Chicken Sandwich          750  ...          2729.0\n",
              "Bacon Clubhouse Grilled Chicken Sandwich         590  ...          2402.0\n",
              "Premium Crispy Chicken Classic Sandwich          510  ...          1662.5\n",
              "Premium Crispy Chicken Club Sandwich             670  ...          2315.0\n",
              "Premium Crispy Chicken Ranch BLT Sandwich        610  ...          2217.0\n",
              "Premium Grilled Chicken Classic Sandwich         350  ...          1327.0\n",
              "Premium Grilled Chicken Club Sandwich            510  ...          1988.0\n",
              "Premium Grilled Chicken Ranch BLT Sandwich       450  ...          1880.5\n",
              "Southern Style Crispy Chicken Sandwich           430  ...          1480.0\n",
              "\n",
              "[9 rows x 10 columns]"
            ]
          },
          "metadata": {
            "tags": []
          },
          "execution_count": 13
        }
      ]
    },
    {
      "cell_type": "code",
      "metadata": {
        "execution": {
          "iopub.execute_input": "2021-01-10T13:04:48.148355Z",
          "iopub.status.busy": "2021-01-10T13:04:48.143794Z",
          "iopub.status.idle": "2021-01-10T13:04:48.564162Z",
          "shell.execute_reply": "2021-01-10T13:04:48.563411Z"
        },
        "papermill": {
          "duration": 0.451075,
          "end_time": "2021-01-10T13:04:48.564284",
          "exception": false,
          "start_time": "2021-01-10T13:04:48.113209",
          "status": "completed"
        },
        "tags": [],
        "colab": {
          "base_uri": "https://localhost:8080/",
          "height": 532
        },
        "id": "rhW0jgQ0n0Qy",
        "outputId": "e3cff17c-2dae-44b0-eabc-f5217cbfd560"
      },
      "source": [
        "nutrition_by_item.iloc[:,[0,1,2,3,4,5,6,7,8]].plot(kind='bar', stacked=True)\n",
        "#nutrition_by_item.iloc[:,[2,3,4,5,6,7,8,9,10,11,12,13]].plot(kind='bar', stacked=True)\n",
        "plt.title('Grilled vs Crispy')\n",
        "plt.ylabel('Total Nutrition')\n",
        "plt.figure(figsize=(10,7))\n",
        "plt.show()"
      ],
      "execution_count": null,
      "outputs": [
        {
          "output_type": "display_data",
          "data": {
            "image/png": "[encoded data removed]",
            "text/plain": [
              "<Figure size 432x288 with 1 Axes>"
            ]
          },
          "metadata": {
            "tags": [],
            "needs_background": "light"
          }
        },
        {
          "output_type": "display_data",
          "data": {
            "text/plain": [
              "<Figure size 720x504 with 0 Axes>"
            ]
          },
          "metadata": {
            "tags": []
          }
        }
      ]
    },
    {
      "cell_type": "code",
      "metadata": {
        "execution": {
          "iopub.execute_input": "2021-01-10T13:04:48.629807Z",
          "iopub.status.busy": "2021-01-10T13:04:48.629032Z",
          "iopub.status.idle": "2021-01-10T13:04:48.633633Z",
          "shell.execute_reply": "2021-01-10T13:04:48.632960Z"
        },
        "papermill": {
          "duration": 0.046322,
          "end_time": "2021-01-10T13:04:48.633748",
          "exception": false,
          "start_time": "2021-01-10T13:04:48.587426",
          "status": "completed"
        },
        "tags": [],
        "colab": {
          "base_uri": "https://localhost:8080/",
          "height": 143
        },
        "id": "x4VEgWqDn0Qz",
        "outputId": "04c470b5-e2d7-4312-9e69-bbaa63c3317d"
      },
      "source": [
        "nutrition_by_type = sandwich_datax.groupby('Chicken Type').mean().sort_values(by='Chicken Type')\n",
        "nutrition_by_type\n"
      ],
      "execution_count": null,
      "outputs": [
        {
          "output_type": "execute_result",
          "data": {
            "text/html": [
              "<div>\n",
              "<style scoped>\n",
              "    .dataframe tbody tr th:only-of-type {\n",
              "        vertical-align: middle;\n",
              "    }\n",
              "\n",
              "    .dataframe tbody tr th {\n",
              "        vertical-align: top;\n",
              "    }\n",
              "\n",
              "    .dataframe thead th {\n",
              "        text-align: right;\n",
              "    }\n",
              "</style>\n",
              "<table border=\"1\" class=\"dataframe\">\n",
              "  <thead>\n",
              "    <tr style=\"text-align: right;\">\n",
              "      <th></th>\n",
              "      <th>Calories</th>\n",
              "      <th>Total Fat</th>\n",
              "      <th>Saturated Fat</th>\n",
              "      <th>Cholesterol</th>\n",
              "      <th>Sodium</th>\n",
              "      <th>Carbohydrates</th>\n",
              "      <th>Dietary Fiber</th>\n",
              "      <th>Sugars</th>\n",
              "      <th>Protein</th>\n",
              "      <th>Total Calories</th>\n",
              "    </tr>\n",
              "    <tr>\n",
              "      <th>Chicken Type</th>\n",
              "      <th></th>\n",
              "      <th></th>\n",
              "      <th></th>\n",
              "      <th></th>\n",
              "      <th></th>\n",
              "      <th></th>\n",
              "      <th></th>\n",
              "      <th></th>\n",
              "      <th></th>\n",
              "      <th></th>\n",
              "    </tr>\n",
              "  </thead>\n",
              "  <tbody>\n",
              "    <tr>\n",
              "      <th>Crispy</th>\n",
              "      <td>594.0</td>\n",
              "      <td>28.00</td>\n",
              "      <td>6.300</td>\n",
              "      <td>67.0</td>\n",
              "      <td>1286.0</td>\n",
              "      <td>55.6</td>\n",
              "      <td>3.00</td>\n",
              "      <td>11.0</td>\n",
              "      <td>29.8</td>\n",
              "      <td>2080.700</td>\n",
              "    </tr>\n",
              "    <tr>\n",
              "      <th>Grilled</th>\n",
              "      <td>475.0</td>\n",
              "      <td>17.25</td>\n",
              "      <td>5.375</td>\n",
              "      <td>92.5</td>\n",
              "      <td>1215.0</td>\n",
              "      <td>45.0</td>\n",
              "      <td>3.25</td>\n",
              "      <td>10.0</td>\n",
              "      <td>36.0</td>\n",
              "      <td>1899.375</td>\n",
              "    </tr>\n",
              "  </tbody>\n",
              "</table>\n",
              "</div>"
            ],
            "text/plain": [
              "              Calories  Total Fat  ...  Protein  Total Calories\n",
              "Chicken Type                       ...                         \n",
              "Crispy           594.0      28.00  ...     29.8        2080.700\n",
              "Grilled          475.0      17.25  ...     36.0        1899.375\n",
              "\n",
              "[2 rows x 10 columns]"
            ]
          },
          "metadata": {
            "tags": []
          },
          "execution_count": 15
        }
      ]
    },
    {
      "cell_type": "code",
      "metadata": {
        "execution": {
          "iopub.execute_input": "2021-01-10T13:04:48.774230Z",
          "iopub.status.busy": "2021-01-10T13:04:48.689154Z",
          "iopub.status.idle": "2021-01-10T13:04:48.993206Z",
          "shell.execute_reply": "2021-01-10T13:04:48.992453Z"
        },
        "papermill": {
          "duration": 0.337253,
          "end_time": "2021-01-10T13:04:48.993328",
          "exception": false,
          "start_time": "2021-01-10T13:04:48.656075",
          "status": "completed"
        },
        "tags": [],
        "colab": {
          "base_uri": "https://localhost:8080/",
          "height": 336
        },
        "id": "vRkDq5Ptn0Q0",
        "outputId": "864eeec9-ac21-48a8-9571-9c78b8902aa5"
      },
      "source": [
        "# Does ordered grilled chicken instead of crispy increase a sandwich's nutritional value?\n",
        "\n",
        "nutrition_by_type.iloc[:,[0,1,2,3,4,5,6,7,8]].plot(kind='bar', stacked=True)\n",
        "#nutrition_by_item.iloc[:,[2,3,4,5,6,7,8,9,10,11,12,13]].plot(kind='bar', stacked=True)\n",
        "plt.title('Grilled vs Crispy')\n",
        "plt.ylabel('Total Nutrition')\n",
        "plt.figure(figsize=(10,7))\n",
        "plt.show()"
      ],
      "execution_count": null,
      "outputs": [
        {
          "output_type": "display_data",
          "data": {
            "image/png": "[encoded data removed]",
            "text/plain": [
              "<Figure size 432x288 with 1 Axes>"
            ]
          },
          "metadata": {
            "tags": [],
            "needs_background": "light"
          }
        },
        {
          "output_type": "display_data",
          "data": {
            "text/plain": [
              "<Figure size 720x504 with 0 Axes>"
            ]
          },
          "metadata": {
            "tags": []
          }
        }
      ]
    },
    {
      "cell_type": "markdown",
      "metadata": {
        "id": "HEHhuCZbtsj-"
      },
      "source": [
        "**If we see in general based on the graph above, crispy sandwich give higher nutritions than grilled sandwich.**"
      ]
    },
    {
      "cell_type": "code",
      "metadata": {
        "execution": {
          "iopub.execute_input": "2021-01-10T13:04:49.044832Z",
          "iopub.status.busy": "2021-01-10T13:04:49.044234Z",
          "iopub.status.idle": "2021-01-10T13:04:49.323288Z",
          "shell.execute_reply": "2021-01-10T13:04:49.322721Z"
        },
        "papermill": {
          "duration": 0.305636,
          "end_time": "2021-01-10T13:04:49.323417",
          "exception": false,
          "start_time": "2021-01-10T13:04:49.017781",
          "status": "completed"
        },
        "tags": [],
        "colab": {
          "base_uri": "https://localhost:8080/",
          "height": 498
        },
        "id": "J5RVb-7Nn0Q2",
        "outputId": "66231a9a-6bd2-4538-89b6-4b798ae244e7"
      },
      "source": [
        "plt.figure(figsize=(10,7))\n",
        "sns.barplot(sandwich_data['Chicken Type'], sandwich_data['Total Daily Value'], hue=sandwich_data['Item'])\n",
        "plt.show()"
      ],
      "execution_count": null,
      "outputs": [
        {
          "output_type": "stream",
          "text": [
            "/usr/local/lib/python3.6/dist-packages/seaborn/_decorators.py:43: FutureWarning: Pass the following variables as keyword args: x, y. From version 0.12, the only valid positional argument will be `data`, and passing other arguments without an explicit keyword will result in an error or misinterpretation.\n",
            "  FutureWarning\n"
          ],
          "name": "stderr"
        },
        {
          "output_type": "display_data",
          "data": {
            "image/png": "[encoded data removed]",
            "text/plain": [
              "<Figure size 720x504 with 1 Axes>"
            ]
          },
          "metadata": {
            "tags": [],
            "needs_background": "light"
          }
        }
      ]
    },
    {
      "cell_type": "code",
      "metadata": {
        "execution": {
          "iopub.execute_input": "2021-01-10T13:04:49.393803Z",
          "iopub.status.busy": "2021-01-10T13:04:49.384452Z",
          "iopub.status.idle": "2021-01-10T13:04:49.607772Z",
          "shell.execute_reply": "2021-01-10T13:04:49.606744Z"
        },
        "papermill": {
          "duration": 0.258274,
          "end_time": "2021-01-10T13:04:49.607909",
          "exception": false,
          "start_time": "2021-01-10T13:04:49.349635",
          "status": "completed"
        },
        "tags": [],
        "colab": {
          "base_uri": "https://localhost:8080/",
          "height": 498
        },
        "id": "r4QqVgNMn0Q4",
        "outputId": "0dad2a2e-d0af-44b4-8930-bbd47d0ced79"
      },
      "source": [
        "plt.figure(figsize=(10,7))\n",
        "sns.barplot(sandwich_data['Item Type'], sandwich_data['Total Daily Value'], hue=sandwich_data['Chicken Type'])\n",
        "plt.show()"
      ],
      "execution_count": null,
      "outputs": [
        {
          "output_type": "stream",
          "text": [
            "/usr/local/lib/python3.6/dist-packages/seaborn/_decorators.py:43: FutureWarning: Pass the following variables as keyword args: x, y. From version 0.12, the only valid positional argument will be `data`, and passing other arguments without an explicit keyword will result in an error or misinterpretation.\n",
            "  FutureWarning\n"
          ],
          "name": "stderr"
        },
        {
          "output_type": "display_data",
          "data": {
            "image/png": "[encoded data removed]",
            "text/plain": [
              "<Figure size 720x504 with 1 Axes>"
            ]
          },
          "metadata": {
            "tags": [],
            "needs_background": "light"
          }
        }
      ]
    },
    {
      "cell_type": "markdown",
      "metadata": {
        "papermill": {
          "duration": 0.026482,
          "end_time": "2021-01-10T13:04:49.661374",
          "exception": false,
          "start_time": "2021-01-10T13:04:49.634892",
          "status": "completed"
        },
        "tags": [],
        "id": "XTstZXhGn0Q7"
      },
      "source": [
        "# **Whole eggs vs Egg Whites**"
      ]
    },
    {
      "cell_type": "markdown",
      "metadata": {
        "papermill": {
          "duration": 0.026614,
          "end_time": "2021-01-10T13:04:49.714510",
          "exception": false,
          "start_time": "2021-01-10T13:04:49.687896",
          "status": "completed"
        },
        "tags": [],
        "id": "2rRP58W2n0Q7"
      },
      "source": [
        "I want to know which one of whole eggs or egg whites give a better nutrition. By asumming nutrition is total value of Calories, Total Fat, Saturated Fat, Cholesterol, Sodium, Carbohydrates, Dietary Fiber, Sugars, Protein."
      ]
    },
    {
      "cell_type": "code",
      "metadata": {
        "execution": {
          "iopub.execute_input": "2021-01-10T13:04:49.797881Z",
          "iopub.status.busy": "2021-01-10T13:04:49.796884Z",
          "iopub.status.idle": "2021-01-10T13:04:49.804275Z",
          "shell.execute_reply": "2021-01-10T13:04:49.803573Z"
        },
        "papermill": {
          "duration": 0.063401,
          "end_time": "2021-01-10T13:04:49.804398",
          "exception": false,
          "start_time": "2021-01-10T13:04:49.740997",
          "status": "completed"
        },
        "tags": [],
        "colab": {
          "base_uri": "https://localhost:8080/",
          "height": 833
        },
        "id": "krtZMpdcn0Q8",
        "outputId": "0016ea1f-e763-4151-fef0-46f0a6110fed"
      },
      "source": [
        "egg_data = dataset[dataset['Item'].str.contains('Egg')]\n",
        "#sandwich_datax = sandwich_datax.iloc[:,[3,5,8,11,13,15,17,20,21,22,23]]\n",
        "egg_data = egg_data.iloc[:,[1,3,5,7,10,12,14,16,18,19]]\n",
        "egg_data['Egg Type'] = egg_data['Item'].str.extract(\"(Egg Whites|Egg)\")\n",
        "egg_data['Egg Type'] = egg_data['Egg Type'].map({'Egg Whites': \"Egg Whites\", 'Egg': \"Whole Eggs\"})\n",
        "\n",
        "egg_data"
      ],
      "execution_count": null,
      "outputs": [
        {
          "output_type": "execute_result",
          "data": {
            "text/html": [
              "<div>\n",
              "<style scoped>\n",
              "    .dataframe tbody tr th:only-of-type {\n",
              "        vertical-align: middle;\n",
              "    }\n",
              "\n",
              "    .dataframe tbody tr th {\n",
              "        vertical-align: top;\n",
              "    }\n",
              "\n",
              "    .dataframe thead th {\n",
              "        text-align: right;\n",
              "    }\n",
              "</style>\n",
              "<table border=\"1\" class=\"dataframe\">\n",
              "  <thead>\n",
              "    <tr style=\"text-align: right;\">\n",
              "      <th></th>\n",
              "      <th>Item</th>\n",
              "      <th>Calories</th>\n",
              "      <th>Total Fat</th>\n",
              "      <th>Saturated Fat</th>\n",
              "      <th>Cholesterol</th>\n",
              "      <th>Sodium</th>\n",
              "      <th>Carbohydrates</th>\n",
              "      <th>Dietary Fiber</th>\n",
              "      <th>Sugars</th>\n",
              "      <th>Protein</th>\n",
              "      <th>Egg Type</th>\n",
              "    </tr>\n",
              "  </thead>\n",
              "  <tbody>\n",
              "    <tr>\n",
              "      <th>0</th>\n",
              "      <td>Egg McMuffin</td>\n",
              "      <td>300</td>\n",
              "      <td>13.0</td>\n",
              "      <td>5.0</td>\n",
              "      <td>260</td>\n",
              "      <td>750</td>\n",
              "      <td>31</td>\n",
              "      <td>4</td>\n",
              "      <td>3</td>\n",
              "      <td>17</td>\n",
              "      <td>Whole Eggs</td>\n",
              "    </tr>\n",
              "    <tr>\n",
              "      <th>1</th>\n",
              "      <td>Egg White Delight</td>\n",
              "      <td>250</td>\n",
              "      <td>8.0</td>\n",
              "      <td>3.0</td>\n",
              "      <td>25</td>\n",
              "      <td>770</td>\n",
              "      <td>30</td>\n",
              "      <td>4</td>\n",
              "      <td>3</td>\n",
              "      <td>18</td>\n",
              "      <td>Whole Eggs</td>\n",
              "    </tr>\n",
              "    <tr>\n",
              "      <th>3</th>\n",
              "      <td>Sausage McMuffin with Egg</td>\n",
              "      <td>450</td>\n",
              "      <td>28.0</td>\n",
              "      <td>10.0</td>\n",
              "      <td>285</td>\n",
              "      <td>860</td>\n",
              "      <td>30</td>\n",
              "      <td>4</td>\n",
              "      <td>2</td>\n",
              "      <td>21</td>\n",
              "      <td>Whole Eggs</td>\n",
              "    </tr>\n",
              "    <tr>\n",
              "      <th>4</th>\n",
              "      <td>Sausage McMuffin with Egg Whites</td>\n",
              "      <td>400</td>\n",
              "      <td>23.0</td>\n",
              "      <td>8.0</td>\n",
              "      <td>50</td>\n",
              "      <td>880</td>\n",
              "      <td>30</td>\n",
              "      <td>4</td>\n",
              "      <td>2</td>\n",
              "      <td>21</td>\n",
              "      <td>Egg Whites</td>\n",
              "    </tr>\n",
              "    <tr>\n",
              "      <th>5</th>\n",
              "      <td>Steak &amp; Egg McMuffin</td>\n",
              "      <td>430</td>\n",
              "      <td>23.0</td>\n",
              "      <td>9.0</td>\n",
              "      <td>300</td>\n",
              "      <td>960</td>\n",
              "      <td>31</td>\n",
              "      <td>4</td>\n",
              "      <td>3</td>\n",
              "      <td>26</td>\n",
              "      <td>Whole Eggs</td>\n",
              "    </tr>\n",
              "    <tr>\n",
              "      <th>6</th>\n",
              "      <td>Bacon, Egg &amp; Cheese Biscuit (Regular Biscuit)</td>\n",
              "      <td>460</td>\n",
              "      <td>26.0</td>\n",
              "      <td>13.0</td>\n",
              "      <td>250</td>\n",
              "      <td>1300</td>\n",
              "      <td>38</td>\n",
              "      <td>2</td>\n",
              "      <td>3</td>\n",
              "      <td>19</td>\n",
              "      <td>Whole Eggs</td>\n",
              "    </tr>\n",
              "    <tr>\n",
              "      <th>7</th>\n",
              "      <td>Bacon, Egg &amp; Cheese Biscuit (Large Biscuit)</td>\n",
              "      <td>520</td>\n",
              "      <td>30.0</td>\n",
              "      <td>14.0</td>\n",
              "      <td>250</td>\n",
              "      <td>1410</td>\n",
              "      <td>43</td>\n",
              "      <td>3</td>\n",
              "      <td>4</td>\n",
              "      <td>19</td>\n",
              "      <td>Whole Eggs</td>\n",
              "    </tr>\n",
              "    <tr>\n",
              "      <th>8</th>\n",
              "      <td>Bacon, Egg &amp; Cheese Biscuit with Egg Whites (R...</td>\n",
              "      <td>410</td>\n",
              "      <td>20.0</td>\n",
              "      <td>11.0</td>\n",
              "      <td>35</td>\n",
              "      <td>1300</td>\n",
              "      <td>36</td>\n",
              "      <td>2</td>\n",
              "      <td>3</td>\n",
              "      <td>20</td>\n",
              "      <td>Whole Eggs</td>\n",
              "    </tr>\n",
              "    <tr>\n",
              "      <th>9</th>\n",
              "      <td>Bacon, Egg &amp; Cheese Biscuit with Egg Whites (L...</td>\n",
              "      <td>470</td>\n",
              "      <td>25.0</td>\n",
              "      <td>12.0</td>\n",
              "      <td>35</td>\n",
              "      <td>1420</td>\n",
              "      <td>42</td>\n",
              "      <td>3</td>\n",
              "      <td>4</td>\n",
              "      <td>20</td>\n",
              "      <td>Whole Eggs</td>\n",
              "    </tr>\n",
              "    <tr>\n",
              "      <th>12</th>\n",
              "      <td>Sausage Biscuit with Egg (Regular Biscuit)</td>\n",
              "      <td>510</td>\n",
              "      <td>33.0</td>\n",
              "      <td>14.0</td>\n",
              "      <td>250</td>\n",
              "      <td>1170</td>\n",
              "      <td>36</td>\n",
              "      <td>2</td>\n",
              "      <td>2</td>\n",
              "      <td>18</td>\n",
              "      <td>Whole Eggs</td>\n",
              "    </tr>\n",
              "    <tr>\n",
              "      <th>13</th>\n",
              "      <td>Sausage Biscuit with Egg (Large Biscuit)</td>\n",
              "      <td>570</td>\n",
              "      <td>37.0</td>\n",
              "      <td>15.0</td>\n",
              "      <td>250</td>\n",
              "      <td>1280</td>\n",
              "      <td>42</td>\n",
              "      <td>3</td>\n",
              "      <td>3</td>\n",
              "      <td>18</td>\n",
              "      <td>Whole Eggs</td>\n",
              "    </tr>\n",
              "    <tr>\n",
              "      <th>14</th>\n",
              "      <td>Sausage Biscuit with Egg Whites (Regular Biscuit)</td>\n",
              "      <td>460</td>\n",
              "      <td>27.0</td>\n",
              "      <td>12.0</td>\n",
              "      <td>35</td>\n",
              "      <td>1180</td>\n",
              "      <td>34</td>\n",
              "      <td>2</td>\n",
              "      <td>3</td>\n",
              "      <td>18</td>\n",
              "      <td>Egg Whites</td>\n",
              "    </tr>\n",
              "    <tr>\n",
              "      <th>15</th>\n",
              "      <td>Sausage Biscuit with Egg Whites (Large Biscuit)</td>\n",
              "      <td>520</td>\n",
              "      <td>32.0</td>\n",
              "      <td>13.0</td>\n",
              "      <td>35</td>\n",
              "      <td>1290</td>\n",
              "      <td>40</td>\n",
              "      <td>3</td>\n",
              "      <td>3</td>\n",
              "      <td>18</td>\n",
              "      <td>Egg Whites</td>\n",
              "    </tr>\n",
              "    <tr>\n",
              "      <th>18</th>\n",
              "      <td>Steak &amp; Egg Biscuit (Regular Biscuit)</td>\n",
              "      <td>540</td>\n",
              "      <td>32.0</td>\n",
              "      <td>16.0</td>\n",
              "      <td>280</td>\n",
              "      <td>1470</td>\n",
              "      <td>38</td>\n",
              "      <td>2</td>\n",
              "      <td>3</td>\n",
              "      <td>25</td>\n",
              "      <td>Whole Eggs</td>\n",
              "    </tr>\n",
              "    <tr>\n",
              "      <th>19</th>\n",
              "      <td>Bacon, Egg &amp; Cheese McGriddles</td>\n",
              "      <td>460</td>\n",
              "      <td>21.0</td>\n",
              "      <td>9.0</td>\n",
              "      <td>250</td>\n",
              "      <td>1250</td>\n",
              "      <td>48</td>\n",
              "      <td>2</td>\n",
              "      <td>15</td>\n",
              "      <td>19</td>\n",
              "      <td>Whole Eggs</td>\n",
              "    </tr>\n",
              "    <tr>\n",
              "      <th>20</th>\n",
              "      <td>Bacon, Egg &amp; Cheese McGriddles with Egg Whites</td>\n",
              "      <td>400</td>\n",
              "      <td>15.0</td>\n",
              "      <td>7.0</td>\n",
              "      <td>35</td>\n",
              "      <td>1250</td>\n",
              "      <td>47</td>\n",
              "      <td>2</td>\n",
              "      <td>16</td>\n",
              "      <td>20</td>\n",
              "      <td>Whole Eggs</td>\n",
              "    </tr>\n",
              "    <tr>\n",
              "      <th>22</th>\n",
              "      <td>Sausage, Egg &amp; Cheese McGriddles</td>\n",
              "      <td>550</td>\n",
              "      <td>31.0</td>\n",
              "      <td>12.0</td>\n",
              "      <td>265</td>\n",
              "      <td>1320</td>\n",
              "      <td>48</td>\n",
              "      <td>2</td>\n",
              "      <td>15</td>\n",
              "      <td>20</td>\n",
              "      <td>Whole Eggs</td>\n",
              "    </tr>\n",
              "    <tr>\n",
              "      <th>23</th>\n",
              "      <td>Sausage, Egg &amp; Cheese McGriddles with Egg Whites</td>\n",
              "      <td>500</td>\n",
              "      <td>26.0</td>\n",
              "      <td>10.0</td>\n",
              "      <td>50</td>\n",
              "      <td>1320</td>\n",
              "      <td>46</td>\n",
              "      <td>2</td>\n",
              "      <td>15</td>\n",
              "      <td>21</td>\n",
              "      <td>Whole Eggs</td>\n",
              "    </tr>\n",
              "    <tr>\n",
              "      <th>24</th>\n",
              "      <td>Bacon, Egg &amp; Cheese Bagel</td>\n",
              "      <td>620</td>\n",
              "      <td>31.0</td>\n",
              "      <td>11.0</td>\n",
              "      <td>275</td>\n",
              "      <td>1480</td>\n",
              "      <td>57</td>\n",
              "      <td>3</td>\n",
              "      <td>7</td>\n",
              "      <td>30</td>\n",
              "      <td>Whole Eggs</td>\n",
              "    </tr>\n",
              "    <tr>\n",
              "      <th>25</th>\n",
              "      <td>Bacon, Egg &amp; Cheese Bagel with Egg Whites</td>\n",
              "      <td>570</td>\n",
              "      <td>25.0</td>\n",
              "      <td>9.0</td>\n",
              "      <td>60</td>\n",
              "      <td>1480</td>\n",
              "      <td>55</td>\n",
              "      <td>3</td>\n",
              "      <td>8</td>\n",
              "      <td>30</td>\n",
              "      <td>Whole Eggs</td>\n",
              "    </tr>\n",
              "    <tr>\n",
              "      <th>26</th>\n",
              "      <td>Steak, Egg &amp; Cheese Bagel</td>\n",
              "      <td>670</td>\n",
              "      <td>35.0</td>\n",
              "      <td>13.0</td>\n",
              "      <td>295</td>\n",
              "      <td>1510</td>\n",
              "      <td>56</td>\n",
              "      <td>3</td>\n",
              "      <td>7</td>\n",
              "      <td>33</td>\n",
              "      <td>Whole Eggs</td>\n",
              "    </tr>\n",
              "    <tr>\n",
              "      <th>29</th>\n",
              "      <td>Big Breakfast with Egg Whites (Regular Biscuit)</td>\n",
              "      <td>640</td>\n",
              "      <td>37.0</td>\n",
              "      <td>14.0</td>\n",
              "      <td>35</td>\n",
              "      <td>1590</td>\n",
              "      <td>50</td>\n",
              "      <td>3</td>\n",
              "      <td>3</td>\n",
              "      <td>26</td>\n",
              "      <td>Egg Whites</td>\n",
              "    </tr>\n",
              "    <tr>\n",
              "      <th>30</th>\n",
              "      <td>Big Breakfast with Egg Whites (Large Biscuit)</td>\n",
              "      <td>690</td>\n",
              "      <td>41.0</td>\n",
              "      <td>14.0</td>\n",
              "      <td>35</td>\n",
              "      <td>1700</td>\n",
              "      <td>55</td>\n",
              "      <td>4</td>\n",
              "      <td>4</td>\n",
              "      <td>26</td>\n",
              "      <td>Egg Whites</td>\n",
              "    </tr>\n",
              "    <tr>\n",
              "      <th>33</th>\n",
              "      <td>Big Breakfast with Hotcakes and Egg Whites (Re...</td>\n",
              "      <td>990</td>\n",
              "      <td>46.0</td>\n",
              "      <td>16.0</td>\n",
              "      <td>55</td>\n",
              "      <td>2170</td>\n",
              "      <td>110</td>\n",
              "      <td>6</td>\n",
              "      <td>17</td>\n",
              "      <td>35</td>\n",
              "      <td>Egg Whites</td>\n",
              "    </tr>\n",
              "    <tr>\n",
              "      <th>34</th>\n",
              "      <td>Big Breakfast with Hotcakes and Egg Whites (La...</td>\n",
              "      <td>1050</td>\n",
              "      <td>50.0</td>\n",
              "      <td>16.0</td>\n",
              "      <td>55</td>\n",
              "      <td>2290</td>\n",
              "      <td>115</td>\n",
              "      <td>7</td>\n",
              "      <td>18</td>\n",
              "      <td>35</td>\n",
              "      <td>Egg Whites</td>\n",
              "    </tr>\n",
              "  </tbody>\n",
              "</table>\n",
              "</div>"
            ],
            "text/plain": [
              "                                                 Item  ...    Egg Type\n",
              "0                                        Egg McMuffin  ...  Whole Eggs\n",
              "1                                   Egg White Delight  ...  Whole Eggs\n",
              "3                           Sausage McMuffin with Egg  ...  Whole Eggs\n",
              "4                    Sausage McMuffin with Egg Whites  ...  Egg Whites\n",
              "5                                Steak & Egg McMuffin  ...  Whole Eggs\n",
              "6       Bacon, Egg & Cheese Biscuit (Regular Biscuit)  ...  Whole Eggs\n",
              "7         Bacon, Egg & Cheese Biscuit (Large Biscuit)  ...  Whole Eggs\n",
              "8   Bacon, Egg & Cheese Biscuit with Egg Whites (R...  ...  Whole Eggs\n",
              "9   Bacon, Egg & Cheese Biscuit with Egg Whites (L...  ...  Whole Eggs\n",
              "12         Sausage Biscuit with Egg (Regular Biscuit)  ...  Whole Eggs\n",
              "13           Sausage Biscuit with Egg (Large Biscuit)  ...  Whole Eggs\n",
              "14  Sausage Biscuit with Egg Whites (Regular Biscuit)  ...  Egg Whites\n",
              "15    Sausage Biscuit with Egg Whites (Large Biscuit)  ...  Egg Whites\n",
              "18              Steak & Egg Biscuit (Regular Biscuit)  ...  Whole Eggs\n",
              "19                     Bacon, Egg & Cheese McGriddles  ...  Whole Eggs\n",
              "20     Bacon, Egg & Cheese McGriddles with Egg Whites  ...  Whole Eggs\n",
              "22                   Sausage, Egg & Cheese McGriddles  ...  Whole Eggs\n",
              "23   Sausage, Egg & Cheese McGriddles with Egg Whites  ...  Whole Eggs\n",
              "24                          Bacon, Egg & Cheese Bagel  ...  Whole Eggs\n",
              "25          Bacon, Egg & Cheese Bagel with Egg Whites  ...  Whole Eggs\n",
              "26                          Steak, Egg & Cheese Bagel  ...  Whole Eggs\n",
              "29    Big Breakfast with Egg Whites (Regular Biscuit)  ...  Egg Whites\n",
              "30      Big Breakfast with Egg Whites (Large Biscuit)  ...  Egg Whites\n",
              "33  Big Breakfast with Hotcakes and Egg Whites (Re...  ...  Egg Whites\n",
              "34  Big Breakfast with Hotcakes and Egg Whites (La...  ...  Egg Whites\n",
              "\n",
              "[25 rows x 11 columns]"
            ]
          },
          "metadata": {
            "tags": []
          },
          "execution_count": 19
        }
      ]
    },
    {
      "cell_type": "code",
      "metadata": {
        "execution": {
          "iopub.execute_input": "2021-01-10T13:04:49.879113Z",
          "iopub.status.busy": "2021-01-10T13:04:49.877996Z",
          "iopub.status.idle": "2021-01-10T13:04:49.882983Z",
          "shell.execute_reply": "2021-01-10T13:04:49.882386Z"
        },
        "papermill": {
          "duration": 0.050509,
          "end_time": "2021-01-10T13:04:49.883110",
          "exception": false,
          "start_time": "2021-01-10T13:04:49.832601",
          "status": "completed"
        },
        "tags": [],
        "colab": {
          "base_uri": "https://localhost:8080/",
          "height": 143
        },
        "id": "1ERA3E9In0Q9",
        "outputId": "ef170a6d-6d29-46ed-86e6-1273c80c5f21"
      },
      "source": [
        "nutrition_by_type_egg = egg_data.groupby('Egg Type').mean().sort_values(by='Egg Type')\n",
        "nutrition_by_type_egg"
      ],
      "execution_count": null,
      "outputs": [
        {
          "output_type": "execute_result",
          "data": {
            "text/html": [
              "<div>\n",
              "<style scoped>\n",
              "    .dataframe tbody tr th:only-of-type {\n",
              "        vertical-align: middle;\n",
              "    }\n",
              "\n",
              "    .dataframe tbody tr th {\n",
              "        vertical-align: top;\n",
              "    }\n",
              "\n",
              "    .dataframe thead th {\n",
              "        text-align: right;\n",
              "    }\n",
              "</style>\n",
              "<table border=\"1\" class=\"dataframe\">\n",
              "  <thead>\n",
              "    <tr style=\"text-align: right;\">\n",
              "      <th></th>\n",
              "      <th>Calories</th>\n",
              "      <th>Total Fat</th>\n",
              "      <th>Saturated Fat</th>\n",
              "      <th>Cholesterol</th>\n",
              "      <th>Sodium</th>\n",
              "      <th>Carbohydrates</th>\n",
              "      <th>Dietary Fiber</th>\n",
              "      <th>Sugars</th>\n",
              "      <th>Protein</th>\n",
              "    </tr>\n",
              "    <tr>\n",
              "      <th>Egg Type</th>\n",
              "      <th></th>\n",
              "      <th></th>\n",
              "      <th></th>\n",
              "      <th></th>\n",
              "      <th></th>\n",
              "      <th></th>\n",
              "      <th></th>\n",
              "      <th></th>\n",
              "      <th></th>\n",
              "    </tr>\n",
              "  </thead>\n",
              "  <tbody>\n",
              "    <tr>\n",
              "      <th>Egg Whites</th>\n",
              "      <td>678.571429</td>\n",
              "      <td>36.571429</td>\n",
              "      <td>13.285714</td>\n",
              "      <td>42.857143</td>\n",
              "      <td>1585.714286</td>\n",
              "      <td>62.000000</td>\n",
              "      <td>4.142857</td>\n",
              "      <td>7.142857</td>\n",
              "      <td>25.571429</td>\n",
              "    </tr>\n",
              "    <tr>\n",
              "      <th>Whole Eggs</th>\n",
              "      <td>482.222222</td>\n",
              "      <td>25.500000</td>\n",
              "      <td>10.722222</td>\n",
              "      <td>191.666667</td>\n",
              "      <td>1238.888889</td>\n",
              "      <td>41.888889</td>\n",
              "      <td>2.777778</td>\n",
              "      <td>6.444444</td>\n",
              "      <td>21.888889</td>\n",
              "    </tr>\n",
              "  </tbody>\n",
              "</table>\n",
              "</div>"
            ],
            "text/plain": [
              "              Calories  Total Fat  ...    Sugars    Protein\n",
              "Egg Type                           ...                     \n",
              "Egg Whites  678.571429  36.571429  ...  7.142857  25.571429\n",
              "Whole Eggs  482.222222  25.500000  ...  6.444444  21.888889\n",
              "\n",
              "[2 rows x 9 columns]"
            ]
          },
          "metadata": {
            "tags": []
          },
          "execution_count": 20
        }
      ]
    },
    {
      "cell_type": "code",
      "metadata": {
        "execution": {
          "iopub.execute_input": "2021-01-10T13:04:49.957518Z",
          "iopub.status.busy": "2021-01-10T13:04:49.950526Z",
          "iopub.status.idle": "2021-01-10T13:04:50.181622Z",
          "shell.execute_reply": "2021-01-10T13:04:50.180990Z"
        },
        "papermill": {
          "duration": 0.269855,
          "end_time": "2021-01-10T13:04:50.181728",
          "exception": false,
          "start_time": "2021-01-10T13:04:49.911873",
          "status": "completed"
        },
        "tags": [],
        "colab": {
          "base_uri": "https://localhost:8080/",
          "height": 362
        },
        "id": "IweE86jun0Q-",
        "outputId": "14ec3e32-35b2-4710-de78-180c474e0088"
      },
      "source": [
        "# What about ordering egg whites instead of whole eggs?\n",
        "\n",
        "nutrition_by_type_egg.iloc[:,[0,1,2,3,4,5,6,7,8]].plot(kind='bar', stacked=True)\n",
        "#nutrition_by_item.iloc[:,[2,3,4,5,6,7,8,9,10,11,12,13]].plot(kind='bar', stacked=True)\n",
        "plt.title('Whole Eggs vs Egg Whites')\n",
        "plt.ylabel('Total Nutrition')\n",
        "plt.figure(figsize=(10,7))\n",
        "plt.rcParams[\"figure.figsize\"] = [10,7]\n",
        "plt.show()"
      ],
      "execution_count": null,
      "outputs": [
        {
          "output_type": "display_data",
          "data": {
            "image/png": "[encoded data removed]",
            "text/plain": [
              "<Figure size 432x288 with 1 Axes>"
            ]
          },
          "metadata": {
            "tags": [],
            "needs_background": "light"
          }
        },
        {
          "output_type": "display_data",
          "data": {
            "text/plain": [
              "<Figure size 720x504 with 0 Axes>"
            ]
          },
          "metadata": {
            "tags": []
          }
        }
      ]
    },
    {
      "cell_type": "markdown",
      "metadata": {
        "id": "ScjZo88bvx26"
      },
      "source": [
        "If we see in general based on the graph above, **egg whites give higher nutritions than grilled sandwich.**"
      ]
    }
  ]
}
